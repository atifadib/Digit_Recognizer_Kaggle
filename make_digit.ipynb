{
 "cells": [
  {
   "cell_type": "code",
   "execution_count": 1,
   "metadata": {
    "collapsed": true
   },
   "outputs": [],
   "source": [
    "import pandas as pd\n",
    "import numpy as np\n",
    "import matplotlib.pyplot as plt\n",
    "import matplotlib.image as mpimg\n",
    "from random import randint\n",
    "from sklearn.utils import shuffle\n",
    "import cv2\n",
    "from scipy import ndimage\n",
    "np.random.seed(777)"
   ]
  },
  {
   "cell_type": "code",
   "execution_count": 2,
   "metadata": {
    "collapsed": true
   },
   "outputs": [],
   "source": [
    "kernel1 = np.array([[-1,-1,-1], [-1,9,-1], [-1,-1,-1]])"
   ]
  },
  {
   "cell_type": "code",
   "execution_count": 3,
   "metadata": {
    "collapsed": true
   },
   "outputs": [],
   "source": [
    "data = pd.read_csv(\"train.csv\")"
   ]
  },
  {
   "cell_type": "code",
   "execution_count": 4,
   "metadata": {},
   "outputs": [
    {
     "data": {
      "text/html": [
       "<div>\n",
       "<style scoped>\n",
       "    .dataframe tbody tr th:only-of-type {\n",
       "        vertical-align: middle;\n",
       "    }\n",
       "\n",
       "    .dataframe tbody tr th {\n",
       "        vertical-align: top;\n",
       "    }\n",
       "\n",
       "    .dataframe thead th {\n",
       "        text-align: right;\n",
       "    }\n",
       "</style>\n",
       "<table border=\"1\" class=\"dataframe\">\n",
       "  <thead>\n",
       "    <tr style=\"text-align: right;\">\n",
       "      <th></th>\n",
       "      <th>label</th>\n",
       "      <th>pixel0</th>\n",
       "      <th>pixel1</th>\n",
       "      <th>pixel2</th>\n",
       "      <th>pixel3</th>\n",
       "      <th>pixel4</th>\n",
       "      <th>pixel5</th>\n",
       "      <th>pixel6</th>\n",
       "      <th>pixel7</th>\n",
       "      <th>pixel8</th>\n",
       "      <th>...</th>\n",
       "      <th>pixel774</th>\n",
       "      <th>pixel775</th>\n",
       "      <th>pixel776</th>\n",
       "      <th>pixel777</th>\n",
       "      <th>pixel778</th>\n",
       "      <th>pixel779</th>\n",
       "      <th>pixel780</th>\n",
       "      <th>pixel781</th>\n",
       "      <th>pixel782</th>\n",
       "      <th>pixel783</th>\n",
       "    </tr>\n",
       "  </thead>\n",
       "  <tbody>\n",
       "    <tr>\n",
       "      <th>0</th>\n",
       "      <td>1</td>\n",
       "      <td>0</td>\n",
       "      <td>0</td>\n",
       "      <td>0</td>\n",
       "      <td>0</td>\n",
       "      <td>0</td>\n",
       "      <td>0</td>\n",
       "      <td>0</td>\n",
       "      <td>0</td>\n",
       "      <td>0</td>\n",
       "      <td>...</td>\n",
       "      <td>0</td>\n",
       "      <td>0</td>\n",
       "      <td>0</td>\n",
       "      <td>0</td>\n",
       "      <td>0</td>\n",
       "      <td>0</td>\n",
       "      <td>0</td>\n",
       "      <td>0</td>\n",
       "      <td>0</td>\n",
       "      <td>0</td>\n",
       "    </tr>\n",
       "    <tr>\n",
       "      <th>1</th>\n",
       "      <td>0</td>\n",
       "      <td>0</td>\n",
       "      <td>0</td>\n",
       "      <td>0</td>\n",
       "      <td>0</td>\n",
       "      <td>0</td>\n",
       "      <td>0</td>\n",
       "      <td>0</td>\n",
       "      <td>0</td>\n",
       "      <td>0</td>\n",
       "      <td>...</td>\n",
       "      <td>0</td>\n",
       "      <td>0</td>\n",
       "      <td>0</td>\n",
       "      <td>0</td>\n",
       "      <td>0</td>\n",
       "      <td>0</td>\n",
       "      <td>0</td>\n",
       "      <td>0</td>\n",
       "      <td>0</td>\n",
       "      <td>0</td>\n",
       "    </tr>\n",
       "    <tr>\n",
       "      <th>2</th>\n",
       "      <td>1</td>\n",
       "      <td>0</td>\n",
       "      <td>0</td>\n",
       "      <td>0</td>\n",
       "      <td>0</td>\n",
       "      <td>0</td>\n",
       "      <td>0</td>\n",
       "      <td>0</td>\n",
       "      <td>0</td>\n",
       "      <td>0</td>\n",
       "      <td>...</td>\n",
       "      <td>0</td>\n",
       "      <td>0</td>\n",
       "      <td>0</td>\n",
       "      <td>0</td>\n",
       "      <td>0</td>\n",
       "      <td>0</td>\n",
       "      <td>0</td>\n",
       "      <td>0</td>\n",
       "      <td>0</td>\n",
       "      <td>0</td>\n",
       "    </tr>\n",
       "    <tr>\n",
       "      <th>3</th>\n",
       "      <td>4</td>\n",
       "      <td>0</td>\n",
       "      <td>0</td>\n",
       "      <td>0</td>\n",
       "      <td>0</td>\n",
       "      <td>0</td>\n",
       "      <td>0</td>\n",
       "      <td>0</td>\n",
       "      <td>0</td>\n",
       "      <td>0</td>\n",
       "      <td>...</td>\n",
       "      <td>0</td>\n",
       "      <td>0</td>\n",
       "      <td>0</td>\n",
       "      <td>0</td>\n",
       "      <td>0</td>\n",
       "      <td>0</td>\n",
       "      <td>0</td>\n",
       "      <td>0</td>\n",
       "      <td>0</td>\n",
       "      <td>0</td>\n",
       "    </tr>\n",
       "    <tr>\n",
       "      <th>4</th>\n",
       "      <td>0</td>\n",
       "      <td>0</td>\n",
       "      <td>0</td>\n",
       "      <td>0</td>\n",
       "      <td>0</td>\n",
       "      <td>0</td>\n",
       "      <td>0</td>\n",
       "      <td>0</td>\n",
       "      <td>0</td>\n",
       "      <td>0</td>\n",
       "      <td>...</td>\n",
       "      <td>0</td>\n",
       "      <td>0</td>\n",
       "      <td>0</td>\n",
       "      <td>0</td>\n",
       "      <td>0</td>\n",
       "      <td>0</td>\n",
       "      <td>0</td>\n",
       "      <td>0</td>\n",
       "      <td>0</td>\n",
       "      <td>0</td>\n",
       "    </tr>\n",
       "  </tbody>\n",
       "</table>\n",
       "<p>5 rows × 785 columns</p>\n",
       "</div>"
      ],
      "text/plain": [
       "   label  pixel0  pixel1  pixel2  pixel3  pixel4  pixel5  pixel6  pixel7  \\\n",
       "0      1       0       0       0       0       0       0       0       0   \n",
       "1      0       0       0       0       0       0       0       0       0   \n",
       "2      1       0       0       0       0       0       0       0       0   \n",
       "3      4       0       0       0       0       0       0       0       0   \n",
       "4      0       0       0       0       0       0       0       0       0   \n",
       "\n",
       "   pixel8    ...     pixel774  pixel775  pixel776  pixel777  pixel778  \\\n",
       "0       0    ...            0         0         0         0         0   \n",
       "1       0    ...            0         0         0         0         0   \n",
       "2       0    ...            0         0         0         0         0   \n",
       "3       0    ...            0         0         0         0         0   \n",
       "4       0    ...            0         0         0         0         0   \n",
       "\n",
       "   pixel779  pixel780  pixel781  pixel782  pixel783  \n",
       "0         0         0         0         0         0  \n",
       "1         0         0         0         0         0  \n",
       "2         0         0         0         0         0  \n",
       "3         0         0         0         0         0  \n",
       "4         0         0         0         0         0  \n",
       "\n",
       "[5 rows x 785 columns]"
      ]
     },
     "execution_count": 4,
     "metadata": {},
     "output_type": "execute_result"
    }
   ],
   "source": [
    "data.head()"
   ]
  },
  {
   "cell_type": "code",
   "execution_count": 171,
   "metadata": {},
   "outputs": [
    {
     "data": {
      "image/png": "[encoded data removed]",
      "text/plain": [
       "<Figure size 432x288 with 1 Axes>"
      ]
     },
     "metadata": {},
     "output_type": "display_data"
    },
    {
     "data": {
      "image/png": "[encoded data removed]",
      "text/plain": [
       "<Figure size 432x288 with 1 Axes>"
      ]
     },
     "metadata": {},
     "output_type": "display_data"
    },
    {
     "data": {
      "image/png": "[encoded data removed]",
      "text/plain": [
       "<Figure size 432x288 with 1 Axes>"
      ]
     },
     "metadata": {},
     "output_type": "display_data"
    },
    {
     "data": {
      "image/png": "[encoded data removed]",
      "text/plain": [
       "<Figure size 432x288 with 1 Axes>"
      ]
     },
     "metadata": {},
     "output_type": "display_data"
    },
    {
     "data": {
      "image/png": "[encoded data removed]",
      "text/plain": [
       "<Figure size 432x288 with 1 Axes>"
      ]
     },
     "metadata": {},
     "output_type": "display_data"
    },
    {
     "data": {
      "image/png": "[encoded data removed]",
      "text/plain": [
       "<Figure size 432x288 with 1 Axes>"
      ]
     },
     "metadata": {},
     "output_type": "display_data"
    }
   ],
   "source": [
    "index = randint(0,len(data))\n",
    "row = np.array(data.iloc[index].tolist()[1:])\n",
    "label = data.iloc[index].tolist()[0]\n",
    "\n",
    "row = row.reshape(28,28)\n",
    "imgplot = plt.imshow(row)\n",
    "plt.title(\"Label: \"+str(label))\n",
    "plt.show()\n",
    "\n",
    "row_sharp_conv = ndimage.convolve(row,kernel1,mode='nearest')\n",
    "imgplot = plt.imshow(row_sharp)\n",
    "plt.title(\"Label: \"+str(label))\n",
    "plt.show()\n",
    "\n",
    "row_sharp = ndimage.rotate(row,-30,reshape=False)\n",
    "imgplot = plt.imshow(row_sharp)\n",
    "plt.title(\"Label: \"+str(label))\n",
    "plt.show()\n",
    "\n",
    "row_sharp = ndimage.rotate(row,30,reshape=False)\n",
    "imgplot = plt.imshow(row_sharp)\n",
    "plt.title(\"Label: \"+str(label))\n",
    "plt.show()\n",
    "\n",
    "row_sharp = ndimage.rotate(row,-40,reshape=False)\n",
    "imgplot = plt.imshow(row_sharp)\n",
    "plt.title(\"Label: \"+str(label))\n",
    "plt.show()\n",
    "\n",
    "row_sharp = ndimage.rotate(row,40,reshape=False)\n",
    "imgplot = plt.imshow(row_sharp)\n",
    "plt.title(\"Label: \"+str(label))\n",
    "plt.show()"
   ]
  },
  {
   "cell_type": "code",
   "execution_count": 172,
   "metadata": {},
   "outputs": [
    {
     "data": {
      "text/plain": [
       "(28, 28)"
      ]
     },
     "execution_count": 172,
     "metadata": {},
     "output_type": "execute_result"
    }
   ],
   "source": [
    "row_sharp_conv.shape"
   ]
  },
  {
   "cell_type": "code",
   "execution_count": 194,
   "metadata": {},
   "outputs": [
    {
     "name": "stderr",
     "output_type": "stream",
     "text": [
      "100%|██████████| 42000/42000 [00:24<00:00, 1690.09it/s]\n"
     ]
    }
   ],
   "source": [
    "from tqdm import tqdm\n",
    "\n",
    "training_data = []\n",
    "\n",
    "for idx in tqdm(range(0,len(data))):\n",
    "    row = data.iloc[idx]\n",
    "    label = np.array([0]*10)\n",
    "    row = row.tolist()\n",
    "    label[row[0]] = 1\n",
    "    row = np.array(row[1:])\n",
    "    training_data.append((row.reshape(28,28),label))\n",
    "    row_sharp = ndimage.convolve(row.reshape(28,28),kernel1,mode='nearest')\n",
    "    training_data.append((row_sharp.reshape(28,28),label))\n",
    "    row_rot1 = ndimage.rotate(row.reshape(28,28),30,reshape=False)\n",
    "    training_data.append((row_rot1.reshape(28,28),label))\n",
    "    row_rot2 = ndimage.rotate(row.reshape(28,28),-30,reshape=False)\n",
    "    training_data.append((row_rot2.reshape(28,28),label))"
   ]
  },
  {
   "cell_type": "code",
   "execution_count": 9,
   "metadata": {},
   "outputs": [
    {
     "name": "stderr",
     "output_type": "stream",
     "text": [
      "Using TensorFlow backend.\n"
     ]
    }
   ],
   "source": [
    "from keras.layers import Conv2D,Dense,Activation,Dropout,Dense,Flatten,MaxPooling2D\n",
    "from keras.models import Sequential"
   ]
  },
  {
   "cell_type": "code",
   "execution_count": 97,
   "metadata": {
    "collapsed": true
   },
   "outputs": [],
   "source": [
    "from keras.callbacks import EarlyStopping, ModelCheckpoint\n",
    "\n",
    "checkpointer = ModelCheckpoint('checkpoint', monitor='val_acc', verbose=1,\n",
    "                               save_best_only=True, save_weights_only=False,\n",
    "                               mode='auto', period=1)\n",
    "earlystopper = EarlyStopping(monitor='val_acc', patience=1, verbose=1,restore_best_weights=True)"
   ]
  },
  {
   "cell_type": "code",
   "execution_count": 204,
   "metadata": {},
   "outputs": [],
   "source": [
    "model = Sequential()\n",
    "model.add(Conv2D(25,(7,7),activation='relu',padding='valid',input_shape=(1,28,28),data_format='channels_first'))\n",
    "model.add(MaxPooling2D((3,3),padding='valid'))\n",
    "model.add(Conv2D(15,(5,5),activation='relu',padding='valid'))\n",
    "model.add(MaxPooling2D((3,3),padding='valid'))\n",
    "model.add(Flatten())\n",
    "model.add(Dense(250,activation='relu'))\n",
    "model.add(Dropout(0.2))\n",
    "model.add(Dense(125,activation='relu'))\n",
    "model.add(Dropout(0.2))\n",
    "model.add(Dense(25,activation='relu'))\n",
    "model.add(Dropout(0.2))\n",
    "model.add(Dense(10,activation='sigmoid'))"
   ]
  },
  {
   "cell_type": "code",
   "execution_count": 205,
   "metadata": {},
   "outputs": [
    {
     "name": "stdout",
     "output_type": "stream",
     "text": [
      "_________________________________________________________________\n",
      "Layer (type)                 Output Shape              Param #   \n",
      "=================================================================\n",
      "conv2d_23 (Conv2D)           (None, 25, 22, 22)        1250      \n",
      "_________________________________________________________________\n",
      "max_pooling2d_20 (MaxPooling (None, 8, 7, 22)          0         \n",
      "_________________________________________________________________\n",
      "conv2d_24 (Conv2D)           (None, 4, 3, 15)          8265      \n",
      "_________________________________________________________________\n",
      "max_pooling2d_21 (MaxPooling (None, 1, 1, 15)          0         \n",
      "_________________________________________________________________\n",
      "flatten_8 (Flatten)          (None, 15)                0         \n",
      "_________________________________________________________________\n",
      "dense_29 (Dense)             (None, 250)               4000      \n",
      "_________________________________________________________________\n",
      "dropout_22 (Dropout)         (None, 250)               0         \n",
      "_________________________________________________________________\n",
      "dense_30 (Dense)             (None, 125)               31375     \n",
      "_________________________________________________________________\n",
      "dropout_23 (Dropout)         (None, 125)               0         \n",
      "_________________________________________________________________\n",
      "dense_31 (Dense)             (None, 25)                3150      \n",
      "_________________________________________________________________\n",
      "dropout_24 (Dropout)         (None, 25)                0         \n",
      "_________________________________________________________________\n",
      "dense_32 (Dense)             (None, 10)                260       \n",
      "=================================================================\n",
      "Total params: 48,300\n",
      "Trainable params: 48,300\n",
      "Non-trainable params: 0\n",
      "_________________________________________________________________\n"
     ]
    }
   ],
   "source": [
    "model.summary()"
   ]
  },
  {
   "cell_type": "code",
   "execution_count": 206,
   "metadata": {
    "collapsed": true
   },
   "outputs": [],
   "source": [
    "model.compile(optimizer='Adam',metrics=['accuracy'],loss='categorical_crossentropy')"
   ]
  },
  {
   "cell_type": "code",
   "execution_count": 207,
   "metadata": {
    "collapsed": true
   },
   "outputs": [],
   "source": [
    "training_data = shuffle(training_data)\n",
    "X = np.array([[_[0]] for _ in training_data])\n",
    "y = np.array([_[1] for _ in training_data])"
   ]
  },
  {
   "cell_type": "code",
   "execution_count": 208,
   "metadata": {},
   "outputs": [
    {
     "data": {
      "text/plain": [
       "(168000, 1, 28, 28)"
      ]
     },
     "execution_count": 208,
     "metadata": {},
     "output_type": "execute_result"
    }
   ],
   "source": [
    "X.shape"
   ]
  },
  {
   "cell_type": "code",
   "execution_count": 209,
   "metadata": {
    "scrolled": true
   },
   "outputs": [
    {
     "name": "stdout",
     "output_type": "stream",
     "text": [
      "Train on 151200 samples, validate on 16800 samples\n",
      "Epoch 1/13\n",
      "151200/151200 [==============================] - 96s 635us/step - loss: 2.0672 - acc: 0.2164 - val_loss: 1.4694 - val_acc: 0.3776\n",
      "\n",
      "Epoch 00001: val_acc did not improve from 0.97571\n",
      "Epoch 2/13\n",
      "151200/151200 [==============================] - 90s 598us/step - loss: 1.2255 - acc: 0.5237 - val_loss: 0.7055 - val_acc: 0.7827\n",
      "\n",
      "Epoch 00002: val_acc did not improve from 0.97571\n",
      "Epoch 3/13\n",
      "151200/151200 [==============================] - 88s 583us/step - loss: 0.6984 - acc: 0.7997 - val_loss: 0.4916 - val_acc: 0.8554\n",
      "\n",
      "Epoch 00003: val_acc did not improve from 0.97571\n",
      "Epoch 4/13\n",
      "151200/151200 [==============================] - 88s 583us/step - loss: 0.5006 - acc: 0.8614 - val_loss: 0.3693 - val_acc: 0.8936\n",
      "\n",
      "Epoch 00004: val_acc did not improve from 0.97571\n",
      "Epoch 5/13\n",
      "151200/151200 [==============================] - 88s 584us/step - loss: 0.4088 - acc: 0.8886 - val_loss: 0.2966 - val_acc: 0.9143\n",
      "\n",
      "Epoch 00005: val_acc did not improve from 0.97571\n",
      "Epoch 6/13\n",
      "151200/151200 [==============================] - 88s 584us/step - loss: 0.3528 - acc: 0.9054 - val_loss: 0.2964 - val_acc: 0.9179\n",
      "\n",
      "Epoch 00006: val_acc did not improve from 0.97571\n",
      "Epoch 7/13\n",
      "151200/151200 [==============================] - 88s 582us/step - loss: 0.3152 - acc: 0.9153 - val_loss: 0.2497 - val_acc: 0.9324\n",
      "\n",
      "Epoch 00007: val_acc did not improve from 0.97571\n",
      "Epoch 8/13\n",
      "151200/151200 [==============================] - 88s 581us/step - loss: 0.2905 - acc: 0.9220 - val_loss: 0.2484 - val_acc: 0.9306\n",
      "\n",
      "Epoch 00008: val_acc did not improve from 0.97571\n",
      "Restoring model weights from the end of the best epoch\n",
      "Epoch 00008: early stopping\n"
     ]
    }
   ],
   "source": [
    "call_back = model.fit(X,y,epochs=13,batch_size=512,validation_split=0.1,callbacks=[checkpointer,earlystopper])"
   ]
  },
  {
   "cell_type": "code",
   "execution_count": 210,
   "metadata": {},
   "outputs": [
    {
     "data": {
      "text/plain": [
       "<keras.callbacks.History at 0x1a321ed208>"
      ]
     },
     "execution_count": 210,
     "metadata": {},
     "output_type": "execute_result"
    }
   ],
   "source": [
    "call_back"
   ]
  },
  {
   "cell_type": "code",
   "execution_count": 212,
   "metadata": {},
   "outputs": [
    {
     "data": {
      "image/png": "[encoded data removed]",
      "text/plain": [
       "<Figure size 432x288 with 1 Axes>"
      ]
     },
     "metadata": {},
     "output_type": "display_data"
    }
   ],
   "source": [
    "ep = len(call_back.history['acc'])\n",
    "plt.plot([_ for _ in range(ep)],[_ for _ in call_back.history['acc']],label='accuracy')\n",
    "plt.plot([_ for _ in range(ep)],[_ for _ in call_back.history['val_acc']],label='val_acc')\n",
    "plt.legend()\n",
    "plt.show()"
   ]
  },
  {
   "cell_type": "code",
   "execution_count": 213,
   "metadata": {},
   "outputs": [
    {
     "data": {
      "image/png": "[encoded data removed]",
      "text/plain": [
       "<Figure size 432x288 with 1 Axes>"
      ]
     },
     "metadata": {},
     "output_type": "display_data"
    }
   ],
   "source": [
    "plt.plot([_ for _ in range(ep)],[_ for _ in call_back.history['loss']],label='loss')\n",
    "plt.plot([_ for _ in range(ep)],[_ for _ in call_back.history['val_loss']],label='val_loss')\n",
    "plt.legend()\n",
    "plt.show()"
   ]
  },
  {
   "cell_type": "code",
   "execution_count": 76,
   "metadata": {
    "collapsed": true
   },
   "outputs": [],
   "source": [
    "test_data = pd.read_csv(\"test.csv\")"
   ]
  },
  {
   "cell_type": "code",
   "execution_count": 217,
   "metadata": {},
   "outputs": [
    {
     "data": {
      "image/png": "[encoded data removed]",
      "text/plain": [
       "<Figure size 432x288 with 1 Axes>"
      ]
     },
     "metadata": {},
     "output_type": "display_data"
    }
   ],
   "source": [
    "index = randint(0,len(test_data))\n",
    "row = np.array(test_data.iloc[24818-1].tolist())\n",
    "\n",
    "row = ndimage.convolve(row.reshape(28,28),kernel1,mode='nearest')\n",
    "label = model.predict(np.array([[row]]))\n",
    "#print(label)\n",
    "imgplot = plt.imshow(row)\n",
    "plt.title(\"Label: \"+str(np.argmax(label)))\n",
    "plt.show()"
   ]
  },
  {
   "cell_type": "code",
   "execution_count": 233,
   "metadata": {},
   "outputs": [
    {
     "name": "stderr",
     "output_type": "stream",
     "text": [
      "100%|██████████| 28000/28000 [01:10<00:00, 397.47it/s]\n"
     ]
    }
   ],
   "source": [
    "df = []\n",
    "for idx in tqdm(range(0,len(test_data))):\n",
    "    row = np.array(test_data.iloc[idx].tolist())\n",
    "    row = row.reshape(28,28)\n",
    "    label1 = model.predict(np.array([[row]]))\n",
    "    row = ndimage.convolve(row.reshape(28,28),kernel1,mode='nearest')\n",
    "    label2 = model.predict(np.array([[row]]))\n",
    "    label = np.divide(np.add(label1,label2),2)\n",
    "    df.append([idx+1,np.argmax(label)])"
   ]
  },
  {
   "cell_type": "code",
   "execution_count": 234,
   "metadata": {
    "collapsed": true
   },
   "outputs": [],
   "source": [
    "df = pd.DataFrame(df,columns=['ImageId','Label'])"
   ]
  },
  {
   "cell_type": "code",
   "execution_count": 235,
   "metadata": {},
   "outputs": [
    {
     "data": {
      "text/html": [
       "<div>\n",
       "<style scoped>\n",
       "    .dataframe tbody tr th:only-of-type {\n",
       "        vertical-align: middle;\n",
       "    }\n",
       "\n",
       "    .dataframe tbody tr th {\n",
       "        vertical-align: top;\n",
       "    }\n",
       "\n",
       "    .dataframe thead th {\n",
       "        text-align: right;\n",
       "    }\n",
       "</style>\n",
       "<table border=\"1\" class=\"dataframe\">\n",
       "  <thead>\n",
       "    <tr style=\"text-align: right;\">\n",
       "      <th></th>\n",
       "      <th>ImageId</th>\n",
       "      <th>Label</th>\n",
       "    </tr>\n",
       "  </thead>\n",
       "  <tbody>\n",
       "    <tr>\n",
       "      <th>27995</th>\n",
       "      <td>27996</td>\n",
       "      <td>9</td>\n",
       "    </tr>\n",
       "    <tr>\n",
       "      <th>27996</th>\n",
       "      <td>27997</td>\n",
       "      <td>7</td>\n",
       "    </tr>\n",
       "    <tr>\n",
       "      <th>27997</th>\n",
       "      <td>27998</td>\n",
       "      <td>3</td>\n",
       "    </tr>\n",
       "    <tr>\n",
       "      <th>27998</th>\n",
       "      <td>27999</td>\n",
       "      <td>9</td>\n",
       "    </tr>\n",
       "    <tr>\n",
       "      <th>27999</th>\n",
       "      <td>28000</td>\n",
       "      <td>2</td>\n",
       "    </tr>\n",
       "  </tbody>\n",
       "</table>\n",
       "</div>"
      ],
      "text/plain": [
       "       ImageId  Label\n",
       "27995    27996      9\n",
       "27996    27997      7\n",
       "27997    27998      3\n",
       "27998    27999      9\n",
       "27999    28000      2"
      ]
     },
     "execution_count": 235,
     "metadata": {},
     "output_type": "execute_result"
    }
   ],
   "source": [
    "df.tail()"
   ]
  },
  {
   "cell_type": "code",
   "execution_count": 236,
   "metadata": {
    "collapsed": true
   },
   "outputs": [],
   "source": [
    "#df.to_csv(\"new_submission_final.csv\",index=False)"
   ]
  },
  {
   "cell_type": "code",
   "execution_count": 237,
   "metadata": {
    "collapsed": true
   },
   "outputs": [],
   "source": [
    "prev_data = pd.read_csv(\"new_submission_2.csv\")"
   ]
  },
  {
   "cell_type": "code",
   "execution_count": 238,
   "metadata": {
    "collapsed": true
   },
   "outputs": [],
   "source": [
    "df['prev_Label'] = prev_data['Label']"
   ]
  },
  {
   "cell_type": "code",
   "execution_count": 239,
   "metadata": {
    "collapsed": true
   },
   "outputs": [],
   "source": [
    "df = df[df['Label']!=df['prev_Label']]"
   ]
  },
  {
   "cell_type": "code",
   "execution_count": 240,
   "metadata": {},
   "outputs": [
    {
     "data": {
      "text/plain": [
       "1541"
      ]
     },
     "execution_count": 240,
     "metadata": {},
     "output_type": "execute_result"
    }
   ],
   "source": [
    "len(df)"
   ]
  },
  {
   "cell_type": "code",
   "execution_count": 248,
   "metadata": {},
   "outputs": [
    {
     "name": "stdout",
     "output_type": "stream",
     "text": [
      "ImageId       26089\n",
      "Label             5\n",
      "prev_Label        8\n",
      "Name: 26088, dtype: int64\n"
     ]
    },
    {
     "data": {
      "image/png": "[encoded data removed]",
      "text/plain": [
       "<Figure size 432x288 with 1 Axes>"
      ]
     },
     "metadata": {},
     "output_type": "display_data"
    }
   ],
   "source": [
    "r = df.iloc[randint(0,len(df))]\n",
    "print(r)\n",
    "row = np.array(test_data.iloc[r.ImageId-1].tolist())\n",
    "\n",
    "row = row.reshape(28,28)\n",
    "row_conv = ndimage.convolve(row,kernel1,mode='nearest')\n",
    "label = model.predict(np.array([[row_conv]]))\n",
    "label2 = model.predict(np.array([[row]]))\n",
    "#print(label)\n",
    "final_label = np.divide(np.add(label,label2),2)\n",
    "imgplot = plt.imshow(row)\n",
    "plt.title(\"Label1: \"+str(np.argmax(label))+\"--Label2: \"+str(np.argmax(label2))+\"--Label3: \"+str(np.argmax(final_label)))\n",
    "plt.show()"
   ]
  },
  {
   "cell_type": "code",
   "execution_count": 155,
   "metadata": {},
   "outputs": [
    {
     "data": {
      "text/plain": [
       "15049"
      ]
     },
     "execution_count": 155,
     "metadata": {},
     "output_type": "execute_result"
    }
   ],
   "source": [
    "r.ImageId"
   ]
  },
  {
   "cell_type": "code",
   "execution_count": null,
   "metadata": {
    "collapsed": true
   },
   "outputs": [],
   "source": []
  }
 ],
 "metadata": {
  "kernelspec": {
   "display_name": "Python 3",
   "language": "python",
   "name": "python3"
  },
  "language_info": {
   "codemirror_mode": {
    "name": "ipython",
    "version": 3
   },
   "file_extension": ".py",
   "mimetype": "text/x-python",
   "name": "python",
   "nbconvert_exporter": "python",
   "pygments_lexer": "ipython3",
   "version": "3.6.7"
  }
 },
 "nbformat": 4,
 "nbformat_minor": 2
}
